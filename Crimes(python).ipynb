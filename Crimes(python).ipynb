{
 "cells": [
  {
   "cell_type": "markdown",
   "id": "31ab2131-3049-4d8d-b9dc-d195f72af27a",
   "metadata": {},
   "source": [
    "![Los Angeles skyline](la_skyline.jpg)\n",
    "\n",
    "Los Angeles, California 😎. The City of Angels. Tinseltown. The Entertainment Capital of the World! \n",
    "\n",
    "Known for its warm weather, palm trees, sprawling coastline, and Hollywood, along with producing some of the most iconic films and songs. However, as with any highly populated city, it isn't always glamorous and there can be a large volume of crime. That's where you can help!\n",
    "\n",
    "You have been asked to support the Los Angeles Police Department (LAPD) by analyzing crime data to identify patterns in criminal behavior. They plan to use your insights to allocate resources effectively to tackle various crimes in different areas.\n",
    "\n",
    "## The Data\n",
    "\n",
    "They have provided you with a single dataset to use. A summary and preview are provided below.\n",
    "\n",
    "It is a modified version of the original data, which is publicly available from Los Angeles Open Data.\n",
    "\n",
    "# crimes.csv\n",
    "\n",
    "| Column     | Description              |\n",
    "|------------|--------------------------|\n",
    "| `'DR_NO'` | Division of Records Number: Official file number made up of a 2-digit year, area ID, and 5 digits. |\n",
    "| `'Date Rptd'` | Date reported - MM/DD/YYYY. |\n",
    "| `'DATE OCC'` | Date of occurrence - MM/DD/YYYY. |\n",
    "| `'TIME OCC'` | In 24-hour military time. |\n",
    "| `'AREA NAME'` | The 21 Geographic Areas or Patrol Divisions are also given a name designation that references a landmark or the surrounding community that it is responsible for. For example, the 77th Street Division is located at the intersection of South Broadway and 77th Street, serving neighborhoods in South Los Angeles. |\n",
    "| `'Crm Cd Desc'` | Indicates the crime committed. |\n",
    "| `'Vict Age'` | Victim's age in years. |\n",
    "| `'Vict Sex'` | Victim's sex: `F`: Female, `M`: Male, `X`: Unknown. |\n",
    "| `'Vict Descent'` | Victim's descent:<ul><li>`A` - Other Asian</li><li>`B` - Black</li><li>`C` - Chinese</li><li>`D` - Cambodian</li><li>`F` - Filipino</li><li>`G` - Guamanian</li><li>`H` - Hispanic/Latin/Mexican</li><li>`I` - American Indian/Alaskan Native</li><li>`J` - Japanese</li><li>`K` - Korean</li><li>`L` - Laotian</li><li>`O` - Other</li><li>`P` - Pacific Islander</li><li>`S` - Samoan</li><li>`U` - Hawaiian</li><li>`V` - Vietnamese</li><li>`W` - White</li><li>`X` - Unknown</li><li>`Z` - Asian Indian</li> |\n",
    "| `'Weapon Desc'` | Description of the weapon used (if applicable). |\n",
    "| `'Status Desc'` | Crime status. |\n",
    "| `'LOCATION'` | Street address of the crime. |"
   ]
  },
  {
   "cell_type": "markdown",
   "id": "32e03337",
   "metadata": {},
   "source": [
    "# QUESTIONS\n",
    "## 1. Which hour has the highest frequency of crimes?\n",
    "## 2. Which area has the largest frequency of night crimes (crimes committed between 10pm and 3:59am)?\n",
    "## 3. Identify the number of crimes committed against victims of different age groups."
   ]
  },
  {
   "cell_type": "code",
   "execution_count": 3,
   "id": "7c6c3c36-5c8b-4cce-8681-95292b8f0861",
   "metadata": {
    "chartConfig": {
     "bar": {
      "hasRoundedCorners": true,
      "stacked": false
     },
     "type": "bar",
     "version": "v1",
     "x": {
      "field": "TIME OCC",
      "type": "string"
     },
     "y": {
      "field": "TIME OCC",
      "type": "string"
     }
    },
    "executionCancelledAt": null,
    "executionTime": null,
    "lastExecutedAt": null,
    "lastExecutedByKernel": null,
    "lastScheduledRunId": null,
    "lastSuccessfullyExecutedCode": null,
    "outputsMetadata": {
     "0": {
      "chartState": {
       "chartModel": {
        "cellRange": {
         "columns": [
          "TIME OCC",
          "TIME OCC"
         ],
         "rowEndIndex": null,
         "rowStartIndex": null
        },
        "chartId": "280sn60kxdb",
        "chartOptions": {
         "bar": {
          "axes": {
           "category": {
            "bottom": {
             "title": {
              "enabled": true,
              "text": "TIME OCC"
             }
            },
            "left": {
             "title": {
              "enabled": true,
              "text": "TIME OCC"
             }
            }
           }
          },
          "legend": {
           "enabled": false
          }
         }
        },
        "chartType": "groupedColumn",
        "modelType": "range"
       },
       "conversionErrors": [
        "invalid-axis-config"
       ],
       "pivotMode": {
        "enabled": false
       },
       "rangeChartModel": {
        "rangeColumns": [
         "TIME OCC",
         "TIME OCC"
        ]
       },
       "sharedChartOptions": {
        "bar": {
         "axes": {
          "category": {
           "bottom": {
            "title": {
             "enabled": true,
             "text": "TIME OCC"
            }
           },
           "left": {
            "title": {
             "enabled": true,
             "text": "TIME OCC"
            }
           }
          }
         },
         "legend": {
          "enabled": false
         }
        }
       }
      },
      "height": 550,
      "tableState": {},
      "type": "dataFrame"
     }
    },
    "version": "ag-charts-v1",
    "visualizeDataframe": false
   },
   "outputs": [
    {
     "data": {
      "text/html": [
       "<div>\n",
       "<style scoped>\n",
       "    .dataframe tbody tr th:only-of-type {\n",
       "        vertical-align: middle;\n",
       "    }\n",
       "\n",
       "    .dataframe tbody tr th {\n",
       "        vertical-align: top;\n",
       "    }\n",
       "\n",
       "    .dataframe thead th {\n",
       "        text-align: right;\n",
       "    }\n",
       "</style>\n",
       "<table border=\"1\" class=\"dataframe\">\n",
       "  <thead>\n",
       "    <tr style=\"text-align: right;\">\n",
       "      <th></th>\n",
       "      <th>DR_NO</th>\n",
       "      <th>Date Rptd</th>\n",
       "      <th>DATE OCC</th>\n",
       "      <th>TIME OCC</th>\n",
       "      <th>AREA NAME</th>\n",
       "      <th>Crm Cd Desc</th>\n",
       "      <th>Vict Age</th>\n",
       "      <th>Vict Sex</th>\n",
       "      <th>Vict Descent</th>\n",
       "      <th>Weapon Desc</th>\n",
       "      <th>Status Desc</th>\n",
       "      <th>LOCATION</th>\n",
       "    </tr>\n",
       "  </thead>\n",
       "  <tbody>\n",
       "    <tr>\n",
       "      <th>0</th>\n",
       "      <td>220314085</td>\n",
       "      <td>2022-07-22</td>\n",
       "      <td>2020-05-12</td>\n",
       "      <td>1110</td>\n",
       "      <td>Southwest</td>\n",
       "      <td>THEFT OF IDENTITY</td>\n",
       "      <td>27</td>\n",
       "      <td>F</td>\n",
       "      <td>B</td>\n",
       "      <td>NaN</td>\n",
       "      <td>Invest Cont</td>\n",
       "      <td>2500 S  SYCAMORE                     AV</td>\n",
       "    </tr>\n",
       "    <tr>\n",
       "      <th>1</th>\n",
       "      <td>222013040</td>\n",
       "      <td>2022-08-06</td>\n",
       "      <td>2020-06-04</td>\n",
       "      <td>1620</td>\n",
       "      <td>Olympic</td>\n",
       "      <td>THEFT OF IDENTITY</td>\n",
       "      <td>60</td>\n",
       "      <td>M</td>\n",
       "      <td>H</td>\n",
       "      <td>NaN</td>\n",
       "      <td>Invest Cont</td>\n",
       "      <td>3300    SAN MARINO                   ST</td>\n",
       "    </tr>\n",
       "    <tr>\n",
       "      <th>2</th>\n",
       "      <td>220614831</td>\n",
       "      <td>2022-08-18</td>\n",
       "      <td>2020-08-17</td>\n",
       "      <td>1200</td>\n",
       "      <td>Hollywood</td>\n",
       "      <td>THEFT OF IDENTITY</td>\n",
       "      <td>28</td>\n",
       "      <td>M</td>\n",
       "      <td>H</td>\n",
       "      <td>NaN</td>\n",
       "      <td>Invest Cont</td>\n",
       "      <td>1900    TRANSIENT</td>\n",
       "    </tr>\n",
       "    <tr>\n",
       "      <th>3</th>\n",
       "      <td>231207725</td>\n",
       "      <td>2023-02-27</td>\n",
       "      <td>2020-01-27</td>\n",
       "      <td>0635</td>\n",
       "      <td>77th Street</td>\n",
       "      <td>THEFT OF IDENTITY</td>\n",
       "      <td>37</td>\n",
       "      <td>M</td>\n",
       "      <td>H</td>\n",
       "      <td>NaN</td>\n",
       "      <td>Invest Cont</td>\n",
       "      <td>6200    4TH                          AV</td>\n",
       "    </tr>\n",
       "    <tr>\n",
       "      <th>4</th>\n",
       "      <td>220213256</td>\n",
       "      <td>2022-07-14</td>\n",
       "      <td>2020-07-14</td>\n",
       "      <td>0900</td>\n",
       "      <td>Rampart</td>\n",
       "      <td>THEFT OF IDENTITY</td>\n",
       "      <td>79</td>\n",
       "      <td>M</td>\n",
       "      <td>B</td>\n",
       "      <td>NaN</td>\n",
       "      <td>Invest Cont</td>\n",
       "      <td>1200 W  7TH                          ST</td>\n",
       "    </tr>\n",
       "  </tbody>\n",
       "</table>\n",
       "</div>"
      ],
      "text/plain": [
       "       DR_NO  Date Rptd   DATE OCC TIME OCC    AREA NAME        Crm Cd Desc  \\\n",
       "0  220314085 2022-07-22 2020-05-12     1110    Southwest  THEFT OF IDENTITY   \n",
       "1  222013040 2022-08-06 2020-06-04     1620      Olympic  THEFT OF IDENTITY   \n",
       "2  220614831 2022-08-18 2020-08-17     1200    Hollywood  THEFT OF IDENTITY   \n",
       "3  231207725 2023-02-27 2020-01-27     0635  77th Street  THEFT OF IDENTITY   \n",
       "4  220213256 2022-07-14 2020-07-14     0900      Rampart  THEFT OF IDENTITY   \n",
       "\n",
       "   Vict Age Vict Sex Vict Descent Weapon Desc  Status Desc  \\\n",
       "0        27        F            B         NaN  Invest Cont   \n",
       "1        60        M            H         NaN  Invest Cont   \n",
       "2        28        M            H         NaN  Invest Cont   \n",
       "3        37        M            H         NaN  Invest Cont   \n",
       "4        79        M            B         NaN  Invest Cont   \n",
       "\n",
       "                                  LOCATION  \n",
       "0  2500 S  SYCAMORE                     AV  \n",
       "1  3300    SAN MARINO                   ST  \n",
       "2                        1900    TRANSIENT  \n",
       "3  6200    4TH                          AV  \n",
       "4  1200 W  7TH                          ST  "
      ]
     },
     "execution_count": 3,
     "metadata": {},
     "output_type": "execute_result"
    }
   ],
   "source": [
    "\n",
    "# Import required libraries\n",
    "import pandas as pd\n",
    "import numpy as np\n",
    "import matplotlib.pyplot as plt\n",
    "import seaborn as sns\n",
    "crimes = pd.read_csv(\"C:/Users/USER/Downloads/Crime data/workspace/crimes.csv\", parse_dates=[\"Date Rptd\", \"DATE OCC\"], dtype={\"TIME OCC\": str})\n",
    "crimes.head()"
   ]
  },
  {
   "cell_type": "code",
   "execution_count": 4,
   "id": "552bcb54-fd95-4f75-961d-2b359450dead",
   "metadata": {
    "executionCancelledAt": null,
    "executionTime": 63,
    "lastExecutedAt": 1729075974282,
    "lastExecutedByKernel": "b1c7194a-3be8-42c0-a31f-62cc86b2ac8d",
    "lastScheduledRunId": null,
    "lastSuccessfullyExecutedCode": "crimes[\"TIME OCC\"] = crimes[\"TIME OCC\"].astype(int)"
   },
   "outputs": [],
   "source": [
    "crimes[\"TIME OCC\"] = crimes[\"TIME OCC\"].astype(int)"
   ]
  },
  {
   "cell_type": "code",
   "execution_count": 5,
   "id": "6f6e58e9-e281-4b77-a2c1-27d15149c60c",
   "metadata": {
    "executionCancelledAt": null,
    "executionTime": 278,
    "lastExecutedAt": 1729075974560,
    "lastExecutedByKernel": "b1c7194a-3be8-42c0-a31f-62cc86b2ac8d",
    "lastScheduledRunId": null,
    "lastSuccessfullyExecutedCode": "sns.histplot(data=crimes, x=\"TIME OCC\", binwidth=100)\nplt.show()"
   },
   "outputs": [
    {
     "data": {
      "image/png": "[encoded data removed]",
      "text/plain": [
       "<Figure size 640x480 with 1 Axes>"
      ]
     },
     "metadata": {},
     "output_type": "display_data"
    }
   ],
   "source": [
    "sns.histplot(data=crimes, x=\"TIME OCC\", binwidth=100)\n",
    "plt.show()"
   ]
  },
  {
   "cell_type": "code",
   "execution_count": 6,
   "id": "f53d53d4-53ea-4296-aa3f-ec8f6a939d6d",
   "metadata": {
    "executionCancelledAt": null,
    "executionTime": 118,
    "lastExecutedAt": 1729075974678,
    "lastExecutedByKernel": "b1c7194a-3be8-42c0-a31f-62cc86b2ac8d",
    "lastScheduledRunId": null,
    "lastSuccessfullyExecutedCode": "# Extract the hour from the \"TIME OCC\" column\ncrimes[\"HOUR OCC\"] = crimes[\"TIME OCC\"].astype(str).str[:2].astype(int)\n\n# Calculate the frequency of each hour\nfreq = crimes[\"HOUR OCC\"].value_counts()\n\n# Find the hour with the highest frequency of crimes\npeak_crime_hour = freq.idxmax()"
   },
   "outputs": [],
   "source": [
    "# Extract the hour from the \"TIME OCC\" column\n",
    "crimes[\"HOUR OCC\"] = crimes[\"TIME OCC\"].astype(str).str[:2].astype(int)\n",
    "\n",
    "# Calculate the frequency of each hour\n",
    "freq = crimes[\"HOUR OCC\"].value_counts()\n",
    "\n",
    "# Find the hour with the highest frequency of crimes\n",
    "peak_crime_hour = freq.idxmax()"
   ]
  },
  {
   "cell_type": "code",
   "execution_count": 7,
   "id": "da2a5eea-4399-4dad-ba46-c9926793116e",
   "metadata": {
    "executionCancelledAt": null,
    "executionTime": 48,
    "lastExecutedAt": 1729075974726,
    "lastExecutedByKernel": "b1c7194a-3be8-42c0-a31f-62cc86b2ac8d",
    "lastScheduledRunId": null,
    "lastSuccessfullyExecutedCode": "print(peak_crime_hour)",
    "outputsMetadata": {
     "0": {
      "height": 38,
      "type": "stream"
     }
    }
   },
   "outputs": [
    {
     "name": "stdout",
     "output_type": "stream",
     "text": [
      "12\n"
     ]
    }
   ],
   "source": [
    "print(peak_crime_hour)"
   ]
  },
  {
   "cell_type": "markdown",
   "id": "47ad6017-bad4-4841-8846-05fe907f5616",
   "metadata": {},
   "source": [
    "The time with the highest frequency is 12:00 pm"
   ]
  },
  {
   "cell_type": "code",
   "execution_count": 8,
   "id": "dda9aa99-7752-4cdd-af29-c2423e3694e0",
   "metadata": {
    "executionCancelledAt": null,
    "executionTime": 101,
    "lastExecutedAt": 1729075974828,
    "lastExecutedByKernel": "b1c7194a-3be8-42c0-a31f-62cc86b2ac8d",
    "lastScheduledRunId": null,
    "lastSuccessfullyExecutedCode": "time_location = crimes.sort_values(['AREA NAME', 'TIME OCC'], ascending=[True, False])\nprint(time_location)",
    "outputsMetadata": {
     "0": {
      "height": 311,
      "type": "stream"
     }
    }
   },
   "outputs": [
    {
     "name": "stdout",
     "output_type": "stream",
     "text": [
      "            DR_NO  Date Rptd   DATE OCC  TIME OCC    AREA NAME  \\\n",
      "20866   221214219 2022-06-03 2022-06-02      2359  77th Street   \n",
      "27189   221216040 2022-07-06 2022-07-03      2359  77th Street   \n",
      "102119  221226122 2022-12-28 2022-02-14      2359  77th Street   \n",
      "146282  231207034 2023-02-18 2023-02-18      2359  77th Street   \n",
      "17281   221215963 2022-07-03 2022-07-02      2358  77th Street   \n",
      "...           ...        ...        ...       ...          ...   \n",
      "182579  230705066 2023-01-25 2023-01-23         1     Wilshire   \n",
      "182661  230710546 2023-06-06 2023-06-03         1     Wilshire   \n",
      "182719  230708844 2023-04-24 2023-04-05         1     Wilshire   \n",
      "184660  230709453 2023-05-10 2023-01-11         1     Wilshire   \n",
      "184754  230708922 2023-04-27 2023-04-27         1     Wilshire   \n",
      "\n",
      "                                           Crm Cd Desc  Vict Age Vict Sex  \\\n",
      "20866                                THEFT OF IDENTITY        27        F   \n",
      "27189                                THEFT OF IDENTITY        42        F   \n",
      "102119  ASSAULT WITH DEADLY WEAPON, AGGRAVATED ASSAULT        15        F   \n",
      "146282                        BATTERY - SIMPLE ASSAULT        24        M   \n",
      "17281                                THEFT OF IDENTITY        26        F   \n",
      "...                                                ...       ...      ...   \n",
      "182579               INTIMATE PARTNER - SIMPLE ASSAULT        31        F   \n",
      "182661                               THEFT OF IDENTITY        39        F   \n",
      "182719          CRIMINAL THREATS - NO WEAPON DISPLAYED        24        F   \n",
      "184660                                        BURGLARY        38        M   \n",
      "184754                                        BURGLARY        56        M   \n",
      "\n",
      "       Vict Descent                                     Weapon Desc  \\\n",
      "20866             B                                             NaN   \n",
      "27189             B                                             NaN   \n",
      "102119            B                                         SHOTGUN   \n",
      "146282            H  STRONG-ARM (HANDS, FIST, FEET OR BODILY FORCE)   \n",
      "17281             B                                             NaN   \n",
      "...             ...                                             ...   \n",
      "182579            B  STRONG-ARM (HANDS, FIST, FEET OR BODILY FORCE)   \n",
      "182661            H                                             NaN   \n",
      "182719            H                                   VERBAL THREAT   \n",
      "184660            B                                             NaN   \n",
      "184754            O                                             NaN   \n",
      "\n",
      "        Status Desc                                 LOCATION  HOUR OCC  \n",
      "20866   Invest Cont  6400 S  NORMANDIE                    AV        23  \n",
      "27189   Invest Cont  3100 W  71ST                         ST        23  \n",
      "102119  Adult Other   300 W  79TH                         ST        23  \n",
      "146282  Invest Cont          78TH                         ST        23  \n",
      "17281   Invest Cont  3300 W  73RD                         ST        23  \n",
      "...             ...                                      ...       ...  \n",
      "182579  Invest Cont          VENICE                       BL         1  \n",
      "182661  Invest Cont   700    CRENSHAW                     BL         1  \n",
      "182719  Invest Cont  5300    SAN VICENTE                  BL         1  \n",
      "184660  Invest Cont  1700 S  SYCAMORE                     AV         1  \n",
      "184754  Invest Cont   400 N  FULLER                       AV         1  \n",
      "\n",
      "[185715 rows x 13 columns]\n"
     ]
    }
   ],
   "source": [
    "time_location = crimes.sort_values(['AREA NAME', 'TIME OCC'], ascending=[True, False])\n",
    "print(time_location)"
   ]
  },
  {
   "cell_type": "code",
   "execution_count": 9,
   "id": "91b6ce67-b2f8-429a-ba8e-d7c0ab4840e1",
   "metadata": {
    "executionCancelledAt": null,
    "executionTime": 50,
    "lastExecutedAt": 1729075974878,
    "lastExecutedByKernel": "b1c7194a-3be8-42c0-a31f-62cc86b2ac8d",
    "lastScheduledRunId": null,
    "lastSuccessfullyExecutedCode": "time_loc = crimes[[\"AREA NAME\", \"TIME OCC\"]]\nprint(time_loc)",
    "outputsMetadata": {
     "0": {
      "height": 311,
      "type": "stream"
     }
    }
   },
   "outputs": [
    {
     "name": "stdout",
     "output_type": "stream",
     "text": [
      "          AREA NAME  TIME OCC\n",
      "0         Southwest      1110\n",
      "1           Olympic      1620\n",
      "2         Hollywood      1200\n",
      "3       77th Street       635\n",
      "4           Rampart       900\n",
      "...             ...       ...\n",
      "185710  N Hollywood      1100\n",
      "185711     Foothill      1800\n",
      "185712     Foothill      1000\n",
      "185713  77th Street      1630\n",
      "185714     Van Nuys       900\n",
      "\n",
      "[185715 rows x 2 columns]\n"
     ]
    }
   ],
   "source": [
    "time_loc = crimes[[\"AREA NAME\", \"TIME OCC\"]]\n",
    "print(time_loc)"
   ]
  },
  {
   "cell_type": "code",
   "execution_count": 10,
   "id": "79b18e1c-2b41-40d6-93d7-ed378176d126",
   "metadata": {
    "executionCancelledAt": null,
    "executionTime": null,
    "lastExecutedAt": null,
    "lastExecutedByKernel": null,
    "lastScheduledRunId": null,
    "lastSuccessfullyExecutedCode": null,
    "outputsMetadata": {
     "0": {
      "height": 550,
      "tableState": {
       "customFilter": {
        "const": {
         "type": "boolean",
         "valid": true,
         "value": true
        },
        "id": "df28dbaf-32e8-43c2-8fb5-609155d2af8d",
        "nodeType": "const"
       },
       "quickFilterText": ""
      },
      "type": "dataFrame"
     }
    }
   },
   "outputs": [
    {
     "data": {
      "text/html": [
       "<div>\n",
       "<style scoped>\n",
       "    .dataframe tbody tr th:only-of-type {\n",
       "        vertical-align: middle;\n",
       "    }\n",
       "\n",
       "    .dataframe tbody tr th {\n",
       "        vertical-align: top;\n",
       "    }\n",
       "\n",
       "    .dataframe thead th {\n",
       "        text-align: right;\n",
       "    }\n",
       "</style>\n",
       "<table border=\"1\" class=\"dataframe\">\n",
       "  <thead>\n",
       "    <tr style=\"text-align: right;\">\n",
       "      <th></th>\n",
       "      <th>AREA NAME</th>\n",
       "      <th>TIME OCC</th>\n",
       "    </tr>\n",
       "  </thead>\n",
       "  <tbody>\n",
       "    <tr>\n",
       "      <th>20866</th>\n",
       "      <td>77th Street</td>\n",
       "      <td>2359</td>\n",
       "    </tr>\n",
       "    <tr>\n",
       "      <th>27189</th>\n",
       "      <td>77th Street</td>\n",
       "      <td>2359</td>\n",
       "    </tr>\n",
       "    <tr>\n",
       "      <th>102119</th>\n",
       "      <td>77th Street</td>\n",
       "      <td>2359</td>\n",
       "    </tr>\n",
       "    <tr>\n",
       "      <th>146282</th>\n",
       "      <td>77th Street</td>\n",
       "      <td>2359</td>\n",
       "    </tr>\n",
       "    <tr>\n",
       "      <th>17281</th>\n",
       "      <td>77th Street</td>\n",
       "      <td>2358</td>\n",
       "    </tr>\n",
       "  </tbody>\n",
       "</table>\n",
       "</div>"
      ],
      "text/plain": [
       "          AREA NAME  TIME OCC\n",
       "20866   77th Street      2359\n",
       "27189   77th Street      2359\n",
       "102119  77th Street      2359\n",
       "146282  77th Street      2359\n",
       "17281   77th Street      2358"
      ]
     },
     "execution_count": 10,
     "metadata": {},
     "output_type": "execute_result"
    }
   ],
   "source": [
    "time_loc_sorted = time_loc.sort_values(by=['AREA NAME', 'TIME OCC'], ascending=[True, False])\n",
    "time_loc_sorted.head()"
   ]
  },
  {
   "cell_type": "code",
   "execution_count": 11,
   "id": "c4382c84-1dd0-4067-af8b-5b1c62bf6966",
   "metadata": {
    "executionCancelledAt": null,
    "executionTime": 85,
    "lastExecutedAt": 1729075975019,
    "lastExecutedByKernel": "b1c7194a-3be8-42c0-a31f-62cc86b2ac8d",
    "lastScheduledRunId": null,
    "lastSuccessfullyExecutedCode": "late_nights = crimes[(crimes[\"TIME OCC\"] >= 359) & (crimes[\"TIME OCC\"] <= 2259)]\nlate_nights_loc = late_nights.sort_values(by=\"TIME OCC\")\nlate_nights_loc.head()\nlate_nights_loc.shape",
    "outputsMetadata": {
     "0": {
      "height": 239,
      "type": "dataFrame"
     }
    }
   },
   "outputs": [
    {
     "data": {
      "text/plain": [
       "(155072, 13)"
      ]
     },
     "execution_count": 11,
     "metadata": {},
     "output_type": "execute_result"
    }
   ],
   "source": [
    "late_nights = crimes[(crimes[\"TIME OCC\"] >= 359) & (crimes[\"TIME OCC\"] <= 2259)]\n",
    "late_nights_loc = late_nights.sort_values(by=\"TIME OCC\")\n",
    "late_nights_loc.head()\n",
    "late_nights_loc.shape"
   ]
  },
  {
   "cell_type": "code",
   "execution_count": 12,
   "id": "6c9c67a5-f1b2-439c-8b9d-b879a3462fa1",
   "metadata": {
    "executionCancelledAt": null,
    "executionTime": 402,
    "lastExecutedAt": 1729075975421,
    "lastExecutedByKernel": "b1c7194a-3be8-42c0-a31f-62cc86b2ac8d",
    "lastScheduledRunId": null,
    "lastSuccessfullyExecutedCode": "\n# Create a DataFrame with the value counts of \"AREA NAME\"\narea_counts = late_nights_loc[\"AREA NAME\"].value_counts().reset_index()\narea_counts.columns = [\"AREA NAME\", \"count\"]\n\nplt.figure(figsize=(12, 6))\nsns.barplot(data=area_counts, x=\"AREA NAME\", y=\"count\")\nplt.xticks(rotation=45)\nplt.show()"
   },
   "outputs": [
    {
     "data": {
      "image/png": "[encoded data removed]",
      "text/plain": [
       "<Figure size 1200x600 with 1 Axes>"
      ]
     },
     "metadata": {},
     "output_type": "display_data"
    }
   ],
   "source": [
    "\n",
    "# Create a DataFrame with the value counts of \"AREA NAME\"\n",
    "area_counts = late_nights_loc[\"AREA NAME\"].value_counts().reset_index()\n",
    "area_counts.columns = [\"AREA NAME\", \"count\"]\n",
    "\n",
    "plt.figure(figsize=(12, 6))\n",
    "sns.barplot(data=area_counts, x=\"AREA NAME\", y=\"count\")\n",
    "plt.xticks(rotation=45)\n",
    "plt.show()"
   ]
  },
  {
   "cell_type": "code",
   "execution_count": 13,
   "id": "92bdc989-5f2f-46e0-afa6-c130e1c9f9fe",
   "metadata": {
    "executionCancelledAt": null,
    "executionTime": 49,
    "lastExecutedAt": 1729075975470,
    "lastExecutedByKernel": "b1c7194a-3be8-42c0-a31f-62cc86b2ac8d",
    "lastScheduledRunId": null,
    "lastSuccessfullyExecutedCode": "peak_night_crime_location = area_counts.loc[area_counts['count'].idxmax(), 'AREA NAME']\npeak_night_crime_location = str(peak_night_crime_location)\npeak_night_crime_location",
    "outputsMetadata": {
     "0": {
      "height": 165,
      "type": "dataFrame"
     }
    }
   },
   "outputs": [
    {
     "data": {
      "text/plain": [
       "'Central'"
      ]
     },
     "execution_count": 13,
     "metadata": {},
     "output_type": "execute_result"
    }
   ],
   "source": [
    "peak_night_crime_location = area_counts.loc[area_counts['count'].idxmax(), 'AREA NAME']\n",
    "peak_night_crime_location = str(peak_night_crime_location)\n",
    "peak_night_crime_location"
   ]
  },
  {
   "cell_type": "code",
   "execution_count": 14,
   "id": "2e57bdcf-d022-45ed-b02d-9dcada64f25d",
   "metadata": {
    "executionCancelledAt": null,
    "executionTime": null,
    "lastExecutedAt": null,
    "lastExecutedByKernel": null,
    "lastScheduledRunId": null,
    "lastSuccessfullyExecutedCode": null,
    "outputsMetadata": {
     "0": {
      "height": 550,
      "tableState": {
       "customFilter": {
        "const": {
         "type": "boolean",
         "valid": true,
         "value": true
        },
        "id": "df28dbaf-32e8-43c2-8fb5-609155d2af8d",
        "nodeType": "const"
       },
       "quickFilterText": ""
      },
      "type": "dataFrame"
     }
    }
   },
   "outputs": [
    {
     "data": {
      "text/plain": [
       "0     26-34\n",
       "1     55-64\n",
       "2     26-34\n",
       "3     35-44\n",
       "4    65-100\n",
       "Name: Age Group, dtype: category\n",
       "Categories (7, object): ['0-17' < '18-25' < '26-34' < '35-44' < '45-54' < '55-64' < '65-100']"
      ]
     },
     "execution_count": 14,
     "metadata": {},
     "output_type": "execute_result"
    }
   ],
   "source": [
    "age_bins = [0, 17, 25, 34, 44, 54, 64, 100]\n",
    "age_group = ['0-17', '18-25', '26-34', '35-44', '45-54', '55-64', '65-100']\n",
    "crimes['Age Group'] = pd.cut(crimes['Vict Age'], bins=age_bins, labels=age_group, right=True)\n",
    "crimes['Age Group'].head()"
   ]
  },
  {
   "cell_type": "code",
   "execution_count": 15,
   "id": "767b99e0-ecdd-4d65-b231-2210060fba88",
   "metadata": {
    "executionCancelledAt": null,
    "executionTime": 51,
    "lastExecutedAt": 1729075975574,
    "lastExecutedByKernel": "b1c7194a-3be8-42c0-a31f-62cc86b2ac8d",
    "lastScheduledRunId": null,
    "lastSuccessfullyExecutedCode": "max_age = crimes['Vict Age'].max()\n\n# Define age group bins and labels\nbins = [0, 17, 25, 34, 44, 54, 64, max_age + 1]  # Use max_age + 1 for the last bin\nlabels = [\"0-17\", \"18-25\", \"26-34\", \"35-44\", \"45-54\", \"55-64\", \"65+\"]\n\n# Categorize victim ages into age groups\ncrimes['Age Group'] = pd.cut(crimes['Vict Age'], bins=bins, labels=labels, right=True)\n\n# Count the number of crimes in each age group\nvictim_ages = crimes['Age Group'].value_counts().sort_index()\n\n# Output the result\nprint(victim_ages)",
    "outputsMetadata": {
     "0": {
      "height": 185,
      "type": "stream"
     }
    }
   },
   "outputs": [
    {
     "name": "stdout",
     "output_type": "stream",
     "text": [
      "Age Group\n",
      "0-17      4528\n",
      "18-25    28291\n",
      "26-34    47470\n",
      "35-44    42157\n",
      "45-54    28353\n",
      "55-64    20169\n",
      "65+      14747\n",
      "Name: count, dtype: int64\n"
     ]
    }
   ],
   "source": [
    "max_age = crimes['Vict Age'].max()\n",
    "\n",
    "# Define age group bins and labels\n",
    "bins = [0, 17, 25, 34, 44, 54, 64, max_age + 1]  # Use max_age + 1 for the last bin\n",
    "labels = [\"0-17\", \"18-25\", \"26-34\", \"35-44\", \"45-54\", \"55-64\", \"65+\"]\n",
    "\n",
    "# Categorize victim ages into age groups\n",
    "crimes['Age Group'] = pd.cut(crimes['Vict Age'], bins=bins, labels=labels, right=True)\n",
    "\n",
    "# Count the number of crimes in each age group\n",
    "victim_ages = crimes['Age Group'].value_counts().sort_index()\n",
    "\n",
    "# Output the result\n",
    "print(victim_ages)"
   ]
  },
  {
   "cell_type": "code",
   "execution_count": null,
   "id": "0f18b9d9",
   "metadata": {},
   "outputs": [],
   "source": []
  },
  {
   "cell_type": "markdown",
   "id": "13a78cd1",
   "metadata": {},
   "source": [
    "# Results\n",
    "## 1. The peak crime hour reported is 12:00 pm\n",
    "\n",
    "## 2. The peak night time (11pm - am) crime location is Los Angeles Central\n",
    "\n",
    "## 3. Number of crimes per age group is\n",
    "| Age group | No of citizens |\n",
    "| ----------- | ----------- |\n",
    "| 0-17 | 4528 |\n",
    "| 18-25 | 28291 |\n",
    "| 26-34 | 47470 |\n",
    "| 35-44 | 42157 |\n",
    "| 45-54 | 28353 |\n",
    "| 55-64 | 20169 |\n",
    "| 65+ | 14747 |\n",
    "\n",
    "### Indicating individuals aged 26-44 suffered more than other age groups\n"
   ]
  },
  {
   "cell_type": "markdown",
   "id": "451c4eb3",
   "metadata": {},
   "source": []
  }
 ],
 "metadata": {
  "colab": {
   "name": "Welcome to DataCamp Workspaces.ipynb",
   "provenance": []
  },
  "kernelspec": {
   "display_name": "Python 3",
   "language": "python",
   "name": "python3"
  },
  "language_info": {
   "codemirror_mode": {
    "name": "ipython",
    "version": 3
   },
   "file_extension": ".py",
   "mimetype": "text/x-python",
   "name": "python",
   "nbconvert_exporter": "python",
   "pygments_lexer": "ipython3",
   "version": "3.11.9"
  }
 },
 "nbformat": 4,
 "nbformat_minor": 5
}
